{
 "cells": [
  {
   "cell_type": "code",
   "execution_count": 1,
   "metadata": {},
   "outputs": [],
   "source": [
    "from langgraph.graph import StateGraph, END\n",
    "from typing import TypedDict, Annotated\n",
    "import operator\n",
    "from langchain_core.messages import AnyMessage, SystemMessage, HumanMessage, ToolMessage\n",
    "import ollama\n",
    "from langchain_community.chat_models.ollama import ChatOllama\n",
    "from langchain_community.tools.tavily_search import TavilySearchResults\n",
    "from langgraph.checkpoint.sqlite import SqliteSaver"
   ]
  },
  {
   "cell_type": "code",
   "execution_count": 2,
   "metadata": {},
   "outputs": [],
   "source": [
    "from uuid import uuid4\n",
    "\n",
    "\"\"\"\n",
    "In previous examples we've annotated the `messages` state key\n",
    "with the default `operator.add` or `+` reducer, which always\n",
    "appends new messages to the end of the existing messages array.\n",
    "\n",
    "Now, to support replacing existing messages, we annotate the\n",
    "`messages` key with a customer reducer function, which replaces\n",
    "messages with the same `id`, and appends them otherwise.\n",
    "\"\"\"\n",
    "\n",
    "def reduce_messages(left: list[AnyMessage], right:list[AnyMessage])->list[AnyMessage]:\n",
    "    # assign ids to messages that don't have them\n",
    "    for message in right:\n",
    "        if not message.id:\n",
    "            message.id = str(uuid4())\n",
    "    \n",
    "    # merge the new messages with the existing messages\n",
    "    merged = left.copy()\n",
    "    for message in right:\n",
    "        for i, existing in enumerate(merged):\n",
    "            # replace any existing messages with the same id\n",
    "            if existing.id == message.id:\n",
    "                merged[i] = message\n",
    "                break\n",
    "        else:\n",
    "            # append any new messages to the end\n",
    "            merged.append(message)\n",
    "    return merged\n",
    "\n",
    "class AgentState(TypedDict):\n",
    "    messages: Annotated[list[AnyMessage], reduce_messages]"
   ]
  },
  {
   "cell_type": "code",
   "execution_count": 3,
   "metadata": {},
   "outputs": [],
   "source": [
    "tool = TavilySearchResults(max_results=1)"
   ]
  },
  {
   "cell_type": "code",
   "execution_count": 4,
   "metadata": {},
   "outputs": [],
   "source": [
    "class Agent:\n",
    "\n",
    "    def __init__(self, model, tools, system=\"\", chechpointer=None):\n",
    "        self.system = system\n",
    "        graph = StateGraph(AgentState)\n",
    "        graph.add_node(\"llm\", self.call_ollama)\n",
    "        graph.add_node(\"action\", self.take_action)\n",
    "        graph.add_conditional_edges(\"llm\", self.exists_action, {True: \"action\", False: END})\n",
    "        graph.add_edge(\"action\", \"llm\")\n",
    "        graph.set_entry_point(\"llm\")\n",
    "        self.graph = graph.compile(\n",
    "            checkpointer=chechpointer,\n",
    "            interrupt_before=['action']\n",
    "        )\n",
    "        self.tools = {t.name: t for t in tools}\n",
    "        self.model = model.bind_tools(tools)\n",
    "\n",
    "    def call_ollama(self, state:AgentState):\n",
    "        messages = state['messages']\n",
    "        if self.system:\n",
    "            messages = [SystemMessage(content=self.system)]+messages\n",
    "        message = self.model.invoke(messages)\n",
    "        return {\"messages\": [message]}\n",
    "    \n",
    "    def exists_action(self, state: AgentState):\n",
    "        result = state[\"messages\"][-1]\n",
    "        return len(result.tool_calls) > 0\n",
    "    \n",
    "    def take_action(self, state: AgentState):\n",
    "        tool_calls = state['messages'][-1].tool_calls\n",
    "        results = []\n",
    "        for t in tool_calls:\n",
    "            print(f\"Calling: {t}\")\n",
    "            result = self.tools[t['name']].invoke(t[\"args\"])\n",
    "            results.append(ToolMessage(tool_call_id=t['id'], name=t['name'], content=str(result)))\n",
    "        print(\"Back to the model!\")\n",
    "        return {\"messages\": results}"
   ]
  },
  {
   "cell_type": "code",
   "execution_count": 5,
   "metadata": {},
   "outputs": [],
   "source": [
    "prompt = \"\"\"You are a smart research assistant. Use the search engine to look up information. \\\n",
    "You are allowed to make multiple calls (either together or in sequence). \\\n",
    "Only look up information when you are sure of what you want. \\\n",
    "If you need to look up some information before asking a follow up question, you are allowed to do that!\n",
    "\"\"\"\n",
    "from langchain_openai import ChatOpenAI\n",
    "model = ChatOpenAI(\n",
    "    api_key=\"ollama\",\n",
    "    model=\"llama3.1\",\n",
    "    base_url=\"http://localhost:11434/v1\",\n",
    ")"
   ]
  },
  {
   "cell_type": "code",
   "execution_count": 6,
   "metadata": {},
   "outputs": [
    {
     "name": "stdout",
     "output_type": "stream",
     "text": [
      "{'messages': [AIMessage(content='', additional_kwargs={'tool_calls': [{'id': 'call_j4t7i5wc', 'function': {'arguments': '{\"query\":\"SF weather today\"}', 'name': 'tavily_search_results_json'}, 'type': 'function'}], 'refusal': None}, response_metadata={'token_usage': {'completion_tokens': 23, 'prompt_tokens': 259, 'total_tokens': 282, 'completion_tokens_details': None, 'prompt_tokens_details': None}, 'model_name': 'llama3.1', 'system_fingerprint': 'fp_ollama', 'finish_reason': 'tool_calls', 'logprobs': None}, id='run-9ceb653f-5756-4824-adfc-67f541c1fa57-0', tool_calls=[{'name': 'tavily_search_results_json', 'args': {'query': 'SF weather today'}, 'id': 'call_j4t7i5wc', 'type': 'tool_call'}], usage_metadata={'input_tokens': 259, 'output_tokens': 23, 'total_tokens': 282, 'input_token_details': {}, 'output_token_details': {}})]}\n"
     ]
    }
   ],
   "source": [
    "messages = [HumanMessage(content=\"Whats the weather in SF?\")]\n",
    "thread = {\"configurable\": {\"thread_id\": \"1\"}}\n",
    "with SqliteSaver.from_conn_string(\":memory:\") as checkpointer:\n",
    "    abot = Agent(model, [tool], system=prompt, chechpointer=checkpointer)\n",
    "    for event in abot.graph.stream({\"messages\": messages}, thread):\n",
    "        for v in event.values():\n",
    "            print(v)"
   ]
  },
  {
   "cell_type": "code",
   "execution_count": 7,
   "metadata": {},
   "outputs": [
    {
     "name": "stdout",
     "output_type": "stream",
     "text": [
      "{'messages': [AIMessage(content='', additional_kwargs={'tool_calls': [{'id': 'call_f3yxegum', 'function': {'arguments': '{\"query\":\"weather in San Francisco\"}', 'name': 'tavily_search_results_json'}, 'type': 'function'}], 'refusal': None}, response_metadata={'token_usage': {'completion_tokens': 24, 'prompt_tokens': 259, 'total_tokens': 283, 'completion_tokens_details': None, 'prompt_tokens_details': None}, 'model_name': 'llama3.1', 'system_fingerprint': 'fp_ollama', 'finish_reason': 'tool_calls', 'logprobs': None}, id='run-95cf596a-a903-4890-a43c-5ab33e4bc274-0', tool_calls=[{'name': 'tavily_search_results_json', 'args': {'query': 'weather in San Francisco'}, 'id': 'call_f3yxegum', 'type': 'tool_call'}], usage_metadata={'input_tokens': 259, 'output_tokens': 24, 'total_tokens': 283, 'input_token_details': {}, 'output_token_details': {}})]}\n",
      "\n",
      "\n",
      "StateSnapshot(values={'messages': [HumanMessage(content='Whats the weather in SF?', additional_kwargs={}, response_metadata={}, id='f2233115-f61f-41e6-b4d5-be03150b3fae'), AIMessage(content='', additional_kwargs={'tool_calls': [{'id': 'call_f3yxegum', 'function': {'arguments': '{\"query\":\"weather in San Francisco\"}', 'name': 'tavily_search_results_json'}, 'type': 'function'}], 'refusal': None}, response_metadata={'token_usage': {'completion_tokens': 24, 'prompt_tokens': 259, 'total_tokens': 283, 'completion_tokens_details': None, 'prompt_tokens_details': None}, 'model_name': 'llama3.1', 'system_fingerprint': 'fp_ollama', 'finish_reason': 'tool_calls', 'logprobs': None}, id='run-95cf596a-a903-4890-a43c-5ab33e4bc274-0', tool_calls=[{'name': 'tavily_search_results_json', 'args': {'query': 'weather in San Francisco'}, 'id': 'call_f3yxegum', 'type': 'tool_call'}], usage_metadata={'input_tokens': 259, 'output_tokens': 24, 'total_tokens': 283, 'input_token_details': {}, 'output_token_details': {}})]}, next=('action',), config={'configurable': {'thread_id': '1', 'checkpoint_ns': '', 'checkpoint_id': '1ef98e7c-1b1f-6b0c-8001-0a329dff3815'}}, metadata={'source': 'loop', 'writes': {'llm': {'messages': [AIMessage(content='', additional_kwargs={'tool_calls': [{'id': 'call_f3yxegum', 'function': {'arguments': '{\"query\":\"weather in San Francisco\"}', 'name': 'tavily_search_results_json'}, 'type': 'function'}], 'refusal': None}, response_metadata={'token_usage': {'completion_tokens': 24, 'prompt_tokens': 259, 'total_tokens': 283, 'completion_tokens_details': None, 'prompt_tokens_details': None}, 'model_name': 'llama3.1', 'system_fingerprint': 'fp_ollama', 'finish_reason': 'tool_calls', 'logprobs': None}, id='run-95cf596a-a903-4890-a43c-5ab33e4bc274-0', tool_calls=[{'name': 'tavily_search_results_json', 'args': {'query': 'weather in San Francisco'}, 'id': 'call_f3yxegum', 'type': 'tool_call'}], usage_metadata={'input_tokens': 259, 'output_tokens': 24, 'total_tokens': 283, 'input_token_details': {}, 'output_token_details': {}})]}}, 'step': 1, 'parents': {}}, created_at='2024-11-02T06:57:42.630887+00:00', parent_config={'configurable': {'thread_id': '1', 'checkpoint_ns': '', 'checkpoint_id': '1ef98e7c-1495-6a94-8000-6549ea159e84'}}, tasks=(PregelTask(id='aee08298-5bbc-c3b5-b47a-b65d80fead3d', name='action', path=('__pregel_pull', 'action'), error=None, interrupts=(), state=None),))\n"
     ]
    }
   ],
   "source": [
    "messages = [HumanMessage(content=\"Whats the weather in SF?\")]\n",
    "thread = {\"configurable\": {\"thread_id\": \"1\"}}\n",
    "with SqliteSaver.from_conn_string(\":memory:\") as checkpointer:\n",
    "    abot = Agent(model, [tool], system=prompt, chechpointer=checkpointer)\n",
    "    for event in abot.graph.stream({\"messages\": messages}, thread):\n",
    "        for v in event.values():\n",
    "            print(v)\n",
    "    print(\"\\n\")\n",
    "    print(abot.graph.get_state(thread))"
   ]
  },
  {
   "cell_type": "code",
   "execution_count": 8,
   "metadata": {},
   "outputs": [
    {
     "name": "stdout",
     "output_type": "stream",
     "text": [
      "{'messages': [AIMessage(content='', additional_kwargs={'tool_calls': [{'id': 'call_2the3vj6', 'function': {'arguments': '{\"query\":\"current weather in San Francisco\"}', 'name': 'tavily_search_results_json'}, 'type': 'function'}], 'refusal': None}, response_metadata={'token_usage': {'completion_tokens': 25, 'prompt_tokens': 259, 'total_tokens': 284, 'completion_tokens_details': None, 'prompt_tokens_details': None}, 'model_name': 'llama3.1', 'system_fingerprint': 'fp_ollama', 'finish_reason': 'tool_calls', 'logprobs': None}, id='run-4cefe72f-3ac4-44d5-b7ae-535ab97bc0e6-0', tool_calls=[{'name': 'tavily_search_results_json', 'args': {'query': 'current weather in San Francisco'}, 'id': 'call_2the3vj6', 'type': 'tool_call'}], usage_metadata={'input_tokens': 259, 'output_tokens': 25, 'total_tokens': 284, 'input_token_details': {}, 'output_token_details': {}})]}\n",
      "\n",
      "\n",
      "('action',)\n"
     ]
    }
   ],
   "source": [
    "messages = [HumanMessage(content=\"Whats the weather in SF?\")]\n",
    "thread = {\"configurable\": {\"thread_id\": \"1\"}}\n",
    "with SqliteSaver.from_conn_string(\":memory:\") as checkpointer:\n",
    "    abot = Agent(model, [tool], system=prompt, chechpointer=checkpointer)\n",
    "    for event in abot.graph.stream({\"messages\": messages}, thread):\n",
    "        for v in event.values():\n",
    "            print(v)\n",
    "    print(\"\\n\")\n",
    "    print(abot.graph.get_state(thread).next)"
   ]
  },
  {
   "cell_type": "code",
   "execution_count": 9,
   "metadata": {},
   "outputs": [
    {
     "name": "stdout",
     "output_type": "stream",
     "text": [
      "{'messages': [AIMessage(content='', additional_kwargs={'tool_calls': [{'id': 'call_ildh04mg', 'function': {'arguments': '{\"query\":\"SF weather\"}', 'name': 'tavily_search_results_json'}, 'type': 'function'}], 'refusal': None}, response_metadata={'token_usage': {'completion_tokens': 22, 'prompt_tokens': 259, 'total_tokens': 281, 'completion_tokens_details': None, 'prompt_tokens_details': None}, 'model_name': 'llama3.1', 'system_fingerprint': 'fp_ollama', 'finish_reason': 'tool_calls', 'logprobs': None}, id='run-f276dbfb-67ee-4367-976e-27206cef700e-0', tool_calls=[{'name': 'tavily_search_results_json', 'args': {'query': 'SF weather'}, 'id': 'call_ildh04mg', 'type': 'tool_call'}], usage_metadata={'input_tokens': 259, 'output_tokens': 22, 'total_tokens': 281, 'input_token_details': {}, 'output_token_details': {}})]}\n",
      "\n",
      "\n",
      "('action',)\n",
      "\n",
      "\n",
      "Calling: {'name': 'tavily_search_results_json', 'args': {'query': 'SF weather'}, 'id': 'call_ildh04mg', 'type': 'tool_call'}\n",
      "Back to the model!\n",
      "{'messages': [ToolMessage(content='[{\\'url\\': \\'https://www.weatherapi.com/\\', \\'content\\': \"{\\'location\\': {\\'name\\': \\'San Francisco\\', \\'region\\': \\'California\\', \\'country\\': \\'United States of America\\', \\'lat\\': 37.775, \\'lon\\': -122.4183, \\'tz_id\\': \\'America/Los_Angeles\\', \\'localtime_epoch\\': 1730530668, \\'localtime\\': \\'2024-11-01 23:57\\'}, \\'current\\': {\\'last_updated_epoch\\': 1730529900, \\'last_updated\\': \\'2024-11-01 23:45\\', \\'temp_c\\': 15.6, \\'temp_f\\': 60.1, \\'is_day\\': 0, \\'condition\\': {\\'text\\': \\'Partly cloudy\\', \\'icon\\': \\'//cdn.weatherapi.com/weather/64x64/night/116.png\\', \\'code\\': 1003}, \\'wind_mph\\': 12.3, \\'wind_kph\\': 19.8, \\'wind_degree\\': 196, \\'wind_dir\\': \\'SSW\\', \\'pressure_mb\\': 1012.0, \\'pressure_in\\': 29.89, \\'precip_mm\\': 3.79, \\'precip_in\\': 0.15, \\'humidity\\': 90, \\'cloud\\': 75, \\'feelslike_c\\': 15.6, \\'feelslike_f\\': 60.1, \\'windchill_c\\': 12.5, \\'windchill_f\\': 54.5, \\'heatindex_c\\': 13.6, \\'heatindex_f\\': 56.5, \\'dewpoint_c\\': 13.3, \\'dewpoint_f\\': 55.9, \\'vis_km\\': 16.0, \\'vis_miles\\': 9.0, \\'uv\\': 0.0, \\'gust_mph\\': 18.3, \\'gust_kph\\': 29.5}}\"}]', name='tavily_search_results_json', id='09d94123-24b4-49a7-ba4e-11380ca2a710', tool_call_id='call_ildh04mg')]}\n",
      "{'messages': [AIMessage(content='The current weather in San Francisco is partly cloudy with a temperature of 15.6°C (60.1°F), wind speed of 19.8 km/h (12.3 mph) from the SSW direction, and humidity of 90%. The pressure is at 1012 mb, and there is a precipitation of 3.79 mm (0.15 in).', additional_kwargs={'refusal': None}, response_metadata={'token_usage': {'completion_tokens': 78, 'prompt_tokens': 571, 'total_tokens': 649, 'completion_tokens_details': None, 'prompt_tokens_details': None}, 'model_name': 'llama3.1', 'system_fingerprint': 'fp_ollama', 'finish_reason': 'stop', 'logprobs': None}, id='run-46df36d9-236f-4e26-bcb3-7fb23c9ca47e-0', usage_metadata={'input_tokens': 571, 'output_tokens': 78, 'total_tokens': 649, 'input_token_details': {}, 'output_token_details': {}})]}\n"
     ]
    }
   ],
   "source": [
    "messages = [HumanMessage(content=\"Whats the weather in SF?\")]\n",
    "thread = {\"configurable\": {\"thread_id\": \"1\"}}\n",
    "with SqliteSaver.from_conn_string(\":memory:\") as checkpointer:\n",
    "    abot = Agent(model, [tool], system=prompt, chechpointer=checkpointer)\n",
    "    for event in abot.graph.stream({\"messages\": messages}, thread):\n",
    "        for v in event.values():\n",
    "            print(v)\n",
    "    print(\"\\n\")\n",
    "    print(abot.graph.get_state(thread).next)\n",
    "    print(\"\\n\")\n",
    "    for event in abot.graph.stream(None, thread):\n",
    "        for v in event.values():\n",
    "            print(v)"
   ]
  },
  {
   "cell_type": "code",
   "execution_count": 10,
   "metadata": {},
   "outputs": [
    {
     "name": "stdout",
     "output_type": "stream",
     "text": [
      "{'messages': [AIMessage(content='', additional_kwargs={'tool_calls': [{'id': 'call_u8h4f1u1', 'function': {'arguments': '{\"query\":\"SF weather\"}', 'name': 'tavily_search_results_json'}, 'type': 'function'}], 'refusal': None}, response_metadata={'token_usage': {'completion_tokens': 22, 'prompt_tokens': 259, 'total_tokens': 281, 'completion_tokens_details': None, 'prompt_tokens_details': None}, 'model_name': 'llama3.1', 'system_fingerprint': 'fp_ollama', 'finish_reason': 'tool_calls', 'logprobs': None}, id='run-e4ec87d0-1e9b-4fba-a95f-b3ddc40ea7fd-0', tool_calls=[{'name': 'tavily_search_results_json', 'args': {'query': 'SF weather'}, 'id': 'call_u8h4f1u1', 'type': 'tool_call'}], usage_metadata={'input_tokens': 259, 'output_tokens': 22, 'total_tokens': 281, 'input_token_details': {}, 'output_token_details': {}})]}\n",
      "\n",
      "\n",
      "('action',)\n",
      "\n",
      "\n",
      "Calling: {'name': 'tavily_search_results_json', 'args': {'query': 'SF weather'}, 'id': 'call_u8h4f1u1', 'type': 'tool_call'}\n",
      "Back to the model!\n",
      "{'messages': [ToolMessage(content='[{\\'url\\': \\'https://www.weatherapi.com/\\', \\'content\\': \"{\\'location\\': {\\'name\\': \\'San Francisco\\', \\'region\\': \\'California\\', \\'country\\': \\'United States of America\\', \\'lat\\': 37.775, \\'lon\\': -122.4183, \\'tz_id\\': \\'America/Los_Angeles\\', \\'localtime_epoch\\': 1730530668, \\'localtime\\': \\'2024-11-01 23:57\\'}, \\'current\\': {\\'last_updated_epoch\\': 1730529900, \\'last_updated\\': \\'2024-11-01 23:45\\', \\'temp_c\\': 15.6, \\'temp_f\\': 60.1, \\'is_day\\': 0, \\'condition\\': {\\'text\\': \\'Partly cloudy\\', \\'icon\\': \\'//cdn.weatherapi.com/weather/64x64/night/116.png\\', \\'code\\': 1003}, \\'wind_mph\\': 12.3, \\'wind_kph\\': 19.8, \\'wind_degree\\': 196, \\'wind_dir\\': \\'SSW\\', \\'pressure_mb\\': 1012.0, \\'pressure_in\\': 29.89, \\'precip_mm\\': 3.79, \\'precip_in\\': 0.15, \\'humidity\\': 90, \\'cloud\\': 75, \\'feelslike_c\\': 15.6, \\'feelslike_f\\': 60.1, \\'windchill_c\\': 12.5, \\'windchill_f\\': 54.5, \\'heatindex_c\\': 13.6, \\'heatindex_f\\': 56.5, \\'dewpoint_c\\': 13.3, \\'dewpoint_f\\': 55.9, \\'vis_km\\': 16.0, \\'vis_miles\\': 9.0, \\'uv\\': 0.0, \\'gust_mph\\': 18.3, \\'gust_kph\\': 29.5}}\"}]', name='tavily_search_results_json', id='439397ff-2d88-49b8-8779-acf5ab69af35', tool_call_id='call_u8h4f1u1')]}\n",
      "{'messages': [AIMessage(content='The current weather in San Francisco is partly cloudy with a temperature of 60.1°F (15.6°C) and winds blowing at 19.8 km/h from the southwest. The humidity is 90% and there is a chance of precipitation with 3.79 mm of rain expected.', additional_kwargs={'refusal': None}, response_metadata={'token_usage': {'completion_tokens': 62, 'prompt_tokens': 571, 'total_tokens': 633, 'completion_tokens_details': None, 'prompt_tokens_details': None}, 'model_name': 'llama3.1', 'system_fingerprint': 'fp_ollama', 'finish_reason': 'stop', 'logprobs': None}, id='run-43ffbca9-4ab1-4328-95f2-aeb966fe8135-0', usage_metadata={'input_tokens': 571, 'output_tokens': 62, 'total_tokens': 633, 'input_token_details': {}, 'output_token_details': {}})]}\n",
      "\n",
      "\n",
      "StateSnapshot(values={'messages': [HumanMessage(content='Whats the weather in SF?', additional_kwargs={}, response_metadata={}, id='8a153157-ad19-4cd9-bf7f-b8c843a6896c'), AIMessage(content='', additional_kwargs={'tool_calls': [{'id': 'call_u8h4f1u1', 'function': {'arguments': '{\"query\":\"SF weather\"}', 'name': 'tavily_search_results_json'}, 'type': 'function'}], 'refusal': None}, response_metadata={'token_usage': {'completion_tokens': 22, 'prompt_tokens': 259, 'total_tokens': 281, 'completion_tokens_details': None, 'prompt_tokens_details': None}, 'model_name': 'llama3.1', 'system_fingerprint': 'fp_ollama', 'finish_reason': 'tool_calls', 'logprobs': None}, id='run-e4ec87d0-1e9b-4fba-a95f-b3ddc40ea7fd-0', tool_calls=[{'name': 'tavily_search_results_json', 'args': {'query': 'SF weather'}, 'id': 'call_u8h4f1u1', 'type': 'tool_call'}], usage_metadata={'input_tokens': 259, 'output_tokens': 22, 'total_tokens': 281, 'input_token_details': {}, 'output_token_details': {}}), ToolMessage(content='[{\\'url\\': \\'https://www.weatherapi.com/\\', \\'content\\': \"{\\'location\\': {\\'name\\': \\'San Francisco\\', \\'region\\': \\'California\\', \\'country\\': \\'United States of America\\', \\'lat\\': 37.775, \\'lon\\': -122.4183, \\'tz_id\\': \\'America/Los_Angeles\\', \\'localtime_epoch\\': 1730530668, \\'localtime\\': \\'2024-11-01 23:57\\'}, \\'current\\': {\\'last_updated_epoch\\': 1730529900, \\'last_updated\\': \\'2024-11-01 23:45\\', \\'temp_c\\': 15.6, \\'temp_f\\': 60.1, \\'is_day\\': 0, \\'condition\\': {\\'text\\': \\'Partly cloudy\\', \\'icon\\': \\'//cdn.weatherapi.com/weather/64x64/night/116.png\\', \\'code\\': 1003}, \\'wind_mph\\': 12.3, \\'wind_kph\\': 19.8, \\'wind_degree\\': 196, \\'wind_dir\\': \\'SSW\\', \\'pressure_mb\\': 1012.0, \\'pressure_in\\': 29.89, \\'precip_mm\\': 3.79, \\'precip_in\\': 0.15, \\'humidity\\': 90, \\'cloud\\': 75, \\'feelslike_c\\': 15.6, \\'feelslike_f\\': 60.1, \\'windchill_c\\': 12.5, \\'windchill_f\\': 54.5, \\'heatindex_c\\': 13.6, \\'heatindex_f\\': 56.5, \\'dewpoint_c\\': 13.3, \\'dewpoint_f\\': 55.9, \\'vis_km\\': 16.0, \\'vis_miles\\': 9.0, \\'uv\\': 0.0, \\'gust_mph\\': 18.3, \\'gust_kph\\': 29.5}}\"}]', name='tavily_search_results_json', id='439397ff-2d88-49b8-8779-acf5ab69af35', tool_call_id='call_u8h4f1u1'), AIMessage(content='The current weather in San Francisco is partly cloudy with a temperature of 60.1°F (15.6°C) and winds blowing at 19.8 km/h from the southwest. The humidity is 90% and there is a chance of precipitation with 3.79 mm of rain expected.', additional_kwargs={'refusal': None}, response_metadata={'token_usage': {'completion_tokens': 62, 'prompt_tokens': 571, 'total_tokens': 633, 'completion_tokens_details': None, 'prompt_tokens_details': None}, 'model_name': 'llama3.1', 'system_fingerprint': 'fp_ollama', 'finish_reason': 'stop', 'logprobs': None}, id='run-43ffbca9-4ab1-4328-95f2-aeb966fe8135-0', usage_metadata={'input_tokens': 571, 'output_tokens': 62, 'total_tokens': 633, 'input_token_details': {}, 'output_token_details': {}})]}, next=(), config={'configurable': {'thread_id': '1', 'checkpoint_ns': '', 'checkpoint_id': '1ef98e7c-b477-6f94-8003-0857a21ffe88'}}, metadata={'source': 'loop', 'writes': {'llm': {'messages': [AIMessage(content='The current weather in San Francisco is partly cloudy with a temperature of 60.1°F (15.6°C) and winds blowing at 19.8 km/h from the southwest. The humidity is 90% and there is a chance of precipitation with 3.79 mm of rain expected.', additional_kwargs={'refusal': None}, response_metadata={'token_usage': {'completion_tokens': 62, 'prompt_tokens': 571, 'total_tokens': 633, 'completion_tokens_details': None, 'prompt_tokens_details': None}, 'model_name': 'llama3.1', 'system_fingerprint': 'fp_ollama', 'finish_reason': 'stop', 'logprobs': None}, id='run-43ffbca9-4ab1-4328-95f2-aeb966fe8135-0', usage_metadata={'input_tokens': 571, 'output_tokens': 62, 'total_tokens': 633, 'input_token_details': {}, 'output_token_details': {}})]}}, 'step': 3, 'parents': {}}, created_at='2024-11-02T06:57:58.710261+00:00', parent_config={'configurable': {'thread_id': '1', 'checkpoint_ns': '', 'checkpoint_id': '1ef98e7c-9cef-63ff-8002-7302b5c70d57'}}, tasks=())\n"
     ]
    }
   ],
   "source": [
    "messages = [HumanMessage(content=\"Whats the weather in SF?\")]\n",
    "thread = {\"configurable\": {\"thread_id\": \"1\"}}\n",
    "with SqliteSaver.from_conn_string(\":memory:\") as checkpointer:\n",
    "    abot = Agent(model, [tool], system=prompt, chechpointer=checkpointer)\n",
    "    for event in abot.graph.stream({\"messages\": messages}, thread):\n",
    "        for v in event.values():\n",
    "            print(v)\n",
    "    print(\"\\n\")\n",
    "    print(abot.graph.get_state(thread).next)\n",
    "    print(\"\\n\")\n",
    "    for event in abot.graph.stream(None, thread):\n",
    "        for v in event.values():\n",
    "            print(v)\n",
    "    print(\"\\n\")\n",
    "    print(abot.graph.get_state(thread))"
   ]
  },
  {
   "cell_type": "code",
   "execution_count": 11,
   "metadata": {},
   "outputs": [
    {
     "name": "stdout",
     "output_type": "stream",
     "text": [
      "{'messages': [AIMessage(content='', additional_kwargs={'tool_calls': [{'id': 'call_afswuhr8', 'function': {'arguments': '{\"query\":\"Los Angeles weather\"}', 'name': 'tavily_search_results_json'}, 'type': 'function'}], 'refusal': None}, response_metadata={'token_usage': {'completion_tokens': 23, 'prompt_tokens': 262, 'total_tokens': 285, 'completion_tokens_details': None, 'prompt_tokens_details': None}, 'model_name': 'llama3.1', 'system_fingerprint': 'fp_ollama', 'finish_reason': 'tool_calls', 'logprobs': None}, id='run-af660794-7c0d-4253-8b84-5df8f2790ff8-0', tool_calls=[{'name': 'tavily_search_results_json', 'args': {'query': 'Los Angeles weather'}, 'id': 'call_afswuhr8', 'type': 'tool_call'}], usage_metadata={'input_tokens': 262, 'output_tokens': 23, 'total_tokens': 285, 'input_token_details': {}, 'output_token_details': {}})]}\n",
      "\n",
      " StateSnapshot(values={'messages': [HumanMessage(content=\"What's the weathre in LA?\", additional_kwargs={}, response_metadata={}, id='8dd243d2-7cba-4476-84e7-a3ed6f28f01e'), AIMessage(content='', additional_kwargs={'tool_calls': [{'id': 'call_afswuhr8', 'function': {'arguments': '{\"query\":\"Los Angeles weather\"}', 'name': 'tavily_search_results_json'}, 'type': 'function'}], 'refusal': None}, response_metadata={'token_usage': {'completion_tokens': 23, 'prompt_tokens': 262, 'total_tokens': 285, 'completion_tokens_details': None, 'prompt_tokens_details': None}, 'model_name': 'llama3.1', 'system_fingerprint': 'fp_ollama', 'finish_reason': 'tool_calls', 'logprobs': None}, id='run-af660794-7c0d-4253-8b84-5df8f2790ff8-0', tool_calls=[{'name': 'tavily_search_results_json', 'args': {'query': 'Los Angeles weather'}, 'id': 'call_afswuhr8', 'type': 'tool_call'}], usage_metadata={'input_tokens': 262, 'output_tokens': 23, 'total_tokens': 285, 'input_token_details': {}, 'output_token_details': {}})]}, next=('action',), config={'configurable': {'thread_id': '2', 'checkpoint_ns': '', 'checkpoint_id': '1ef98e7c-bbfe-6f9d-8001-43e380ae6205'}}, metadata={'source': 'loop', 'writes': {'llm': {'messages': [AIMessage(content='', additional_kwargs={'tool_calls': [{'id': 'call_afswuhr8', 'function': {'arguments': '{\"query\":\"Los Angeles weather\"}', 'name': 'tavily_search_results_json'}, 'type': 'function'}], 'refusal': None}, response_metadata={'token_usage': {'completion_tokens': 23, 'prompt_tokens': 262, 'total_tokens': 285, 'completion_tokens_details': None, 'prompt_tokens_details': None}, 'model_name': 'llama3.1', 'system_fingerprint': 'fp_ollama', 'finish_reason': 'tool_calls', 'logprobs': None}, id='run-af660794-7c0d-4253-8b84-5df8f2790ff8-0', tool_calls=[{'name': 'tavily_search_results_json', 'args': {'query': 'Los Angeles weather'}, 'id': 'call_afswuhr8', 'type': 'tool_call'}], usage_metadata={'input_tokens': 262, 'output_tokens': 23, 'total_tokens': 285, 'input_token_details': {}, 'output_token_details': {}})]}}, 'step': 1, 'parents': {}}, created_at='2024-11-02T06:57:59.499561+00:00', parent_config={'configurable': {'thread_id': '2', 'checkpoint_ns': '', 'checkpoint_id': '1ef98e7c-b492-6fb3-8000-30b3b80e69d1'}}, tasks=(PregelTask(id='bb181940-aa73-53a6-9cbc-c724c1694a96', name='action', path=('__pregel_pull', 'action'), error=None, interrupts=(), state=None),)) \n",
      "\n",
      "Calling: {'name': 'tavily_search_results_json', 'args': {'query': 'Los Angeles weather'}, 'id': 'call_afswuhr8', 'type': 'tool_call'}\n",
      "Back to the model!\n",
      "{'messages': [ToolMessage(content='[{\\'url\\': \\'https://www.weatherapi.com/\\', \\'content\\': \"{\\'location\\': {\\'name\\': \\'Los Angeles\\', \\'region\\': \\'California\\', \\'country\\': \\'United States of America\\', \\'lat\\': 34.0522, \\'lon\\': -118.2428, \\'tz_id\\': \\'America/Los_Angeles\\', \\'localtime_epoch\\': 1730530680, \\'localtime\\': \\'2024-11-01 23:58\\'}, \\'current\\': {\\'last_updated_epoch\\': 1730529900, \\'last_updated\\': \\'2024-11-01 23:45\\', \\'temp_c\\': 15.6, \\'temp_f\\': 60.1, \\'is_day\\': 0, \\'condition\\': {\\'text\\': \\'Clear\\', \\'icon\\': \\'//cdn.weatherapi.com/weather/64x64/night/113.png\\', \\'code\\': 1000}, \\'wind_mph\\': 2.7, \\'wind_kph\\': 4.3, \\'wind_degree\\': 158, \\'wind_dir\\': \\'SSE\\', \\'pressure_mb\\': 1014.0, \\'pressure_in\\': 29.93, \\'precip_mm\\': 0.0, \\'precip_in\\': 0.0, \\'humidity\\': 83, \\'cloud\\': 0, \\'feelslike_c\\': 15.6, \\'feelslike_f\\': 60.1, \\'windchill_c\\': 15.0, \\'windchill_f\\': 59.1, \\'heatindex_c\\': 14.9, \\'heatindex_f\\': 58.8, \\'dewpoint_c\\': 12.4, \\'dewpoint_f\\': 54.4, \\'vis_km\\': 16.0, \\'vis_miles\\': 9.0, \\'uv\\': 0.0, \\'gust_mph\\': 3.7, \\'gust_kph\\': 6.0}}\"}]', name='tavily_search_results_json', id='0c463696-4033-4252-9b45-a30f3aa26fda', tool_call_id='call_afswuhr8')]}\n",
      "{'messages': [AIMessage(content='The current weather in Los Angeles is clear with a temperature of 60.1°F (15.6°C) and a humidity of 83%. The wind speed is 4.3 km/h from the SSE direction. There is no precipitation, and the visibility is 9 miles.', additional_kwargs={'refusal': None}, response_metadata={'token_usage': {'completion_tokens': 59, 'prompt_tokens': 574, 'total_tokens': 633, 'completion_tokens_details': None, 'prompt_tokens_details': None}, 'model_name': 'llama3.1', 'system_fingerprint': 'fp_ollama', 'finish_reason': 'stop', 'logprobs': None}, id='run-83ef7935-d6cb-44fe-90bf-bb3bef81d682-0', usage_metadata={'input_tokens': 574, 'output_tokens': 59, 'total_tokens': 633, 'input_token_details': {}, 'output_token_details': {}})]}\n"
     ]
    }
   ],
   "source": [
    "messages = [HumanMessage(\"What's the weathre in LA?\")]\n",
    "thread = {\"configurable\": {\"thread_id\": \"2\"}}\n",
    "with SqliteSaver.from_conn_string(\":memory:\") as checkpointer:\n",
    "    abot = Agent(model, [tool], system=prompt, chechpointer=checkpointer)\n",
    "    for event in abot.graph.stream({\"messages\": messages}, thread):\n",
    "        for v in event.values():\n",
    "            print(v)\n",
    "    while abot.graph.get_state(thread).next:\n",
    "        print(\"\\n\", abot.graph.get_state(thread), \"\\n\")\n",
    "        cmd = input(\"Proceed?\")\n",
    "        if cmd != \"y\":\n",
    "            print(\"aborting\")\n",
    "            break\n",
    "        for event in abot.graph.stream(None, thread):\n",
    "            for v in event.values():\n",
    "                print(v)"
   ]
  }
 ],
 "metadata": {
  "kernelspec": {
   "display_name": "Python 3",
   "language": "python",
   "name": "python3"
  },
  "language_info": {
   "codemirror_mode": {
    "name": "ipython",
    "version": 3
   },
   "file_extension": ".py",
   "mimetype": "text/x-python",
   "name": "python",
   "nbconvert_exporter": "python",
   "pygments_lexer": "ipython3",
   "version": "3.12.5"
  }
 },
 "nbformat": 4,
 "nbformat_minor": 2
}
