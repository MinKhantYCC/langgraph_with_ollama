{
 "cells": [
  {
   "cell_type": "code",
   "execution_count": 1,
   "metadata": {},
   "outputs": [],
   "source": [
    "from dotenv import load_dotenv, find_dotenv\n",
    "\n",
    "_ = load_dotenv(find_dotenv())"
   ]
  },
  {
   "cell_type": "code",
   "execution_count": 2,
   "metadata": {},
   "outputs": [],
   "source": [
    "from langgraph.graph import StateGraph, END\n",
    "from typing import TypedDict, Annotated, List\n",
    "import operator\n",
    "from langgraph.checkpoint.sqlite import SqliteSaver\n",
    "from langchain_core.messages import AnyMessage, SystemMessage, HumanMessage, AIMessage, ToolMessage\n",
    "from langchain.prompts.chat import ChatPromptTemplate"
   ]
  },
  {
   "cell_type": "code",
   "execution_count": 3,
   "metadata": {},
   "outputs": [],
   "source": [
    "class AgentState(TypedDict):\n",
    "    task: str\n",
    "    plan: str\n",
    "    draft: str\n",
    "    critique: str\n",
    "    content: List[str]\n",
    "    revision_number: int\n",
    "    max_revisions: int"
   ]
  },
  {
   "cell_type": "code",
   "execution_count": 4,
   "metadata": {},
   "outputs": [],
   "source": [
    "from langchain_openai import ChatOpenAI\n",
    "model = ChatOpenAI(\n",
    "    model=\"llama3.1\",\n",
    "    api_key=\"ollama\",\n",
    "    base_url=\"http://127.0.0.1:11434/v1\"\n",
    ")"
   ]
  },
  {
   "cell_type": "markdown",
   "metadata": {},
   "source": [
    "![IMG](./image/5.png)"
   ]
  },
  {
   "cell_type": "code",
   "execution_count": 5,
   "metadata": {},
   "outputs": [],
   "source": [
    "PLAN_PROMPT = \"\"\"You are an expert writer tasked with writing a high level outline of an essay. \\\n",
    "Write such an outline for the user provided topic. Give an outline of the essay along with any relevant notes \\\n",
    "or instructions for the sections.\"\"\"\n",
    "\n",
    "WRITER_PROMPT = \"\"\"You are an essay assistant tasked with writing excellent 5-paragraph essays.\\\n",
    "Generate the best essay possible for the user's request and the initial outline. \\\n",
    "If the user provides critique, respond with a revised version of your previous attempts. \\\n",
    "Utilize all the information below as needed: \n",
    "\n",
    "------\n",
    "\n",
    "{content}\"\"\"\n",
    "\n",
    "REFLECTION_PROMPT = \"\"\"You are a teacher grading an essay submission. \\\n",
    "Generate critique and recommendations for the user's submission. \\\n",
    "Provide detailed recommendations, including requests for length, depth, style, etc.\"\"\"\n",
    "\n",
    "RESEARCH_PLAN_PROMPT = \"\"\"You are a researcher charged with providing information that can \\\n",
    "be used when writing the following essay. Generate a list of search queries that will gather \\\n",
    "any relevant information. Only generate 3 queries max.\"\"\"\n",
    "\n",
    "RESEARCH_CRITIQUE_PROMPT = \"\"\"You are a researcher charged with providing information that can \\\n",
    "be used when making any requested revisions (as outlined below). \\\n",
    "Generate a list of search queries that will gather any relevant information. Only generate 3 queries max.\"\"\"\n"
   ]
  },
  {
   "cell_type": "code",
   "execution_count": 6,
   "metadata": {},
   "outputs": [],
   "source": [
    "from pydantic import BaseModel\n",
    "\n",
    "class Queries(BaseModel):\n",
    "    queries: List[str]"
   ]
  },
  {
   "cell_type": "code",
   "execution_count": 7,
   "metadata": {},
   "outputs": [],
   "source": [
    "from tavily import TavilyClient\n",
    "import os\n",
    "tavily = TavilyClient(api_key=os.environ['TAVILY_API_KEY'])"
   ]
  },
  {
   "cell_type": "code",
   "execution_count": 8,
   "metadata": {},
   "outputs": [],
   "source": [
    "def plan_node(state: AgentState):\n",
    "    messages = [\n",
    "        SystemMessage(content=PLAN_PROMPT),\n",
    "        HumanMessage(content=state['task'])\n",
    "    ]\n",
    "    response = model.invoke(messages)\n",
    "    return {\"plan\": response.content}"
   ]
  },
  {
   "cell_type": "code",
   "execution_count": 9,
   "metadata": {},
   "outputs": [],
   "source": [
    "def research_plan_node(state: AgentState):\n",
    "\n",
    "    prompt = ChatPromptTemplate.from_messages([\n",
    "        (\"system\", RESEARCH_PLAN_PROMPT),\n",
    "        (\"placeholder\", \"{messages}\")\n",
    "    ])\n",
    "    structured_model = model.with_structured_output(Queries, strict=True)\n",
    "    chain = prompt | structured_model\n",
    "    queries = chain.invoke({\"messages\": [state['task']]})\n",
    "\n",
    "    if \"content\" in state.keys():\n",
    "        content = state['content']\n",
    "    else:\n",
    "        content = []\n",
    "    for q in queries.queries:\n",
    "        response = tavily.search(query=q, max_results=2)\n",
    "        for r in response['results']:\n",
    "            content.append(r['content'])\n",
    "    return {\"content\": content}"
   ]
  },
  {
   "cell_type": "code",
   "execution_count": 10,
   "metadata": {},
   "outputs": [],
   "source": [
    "def generation_node(state: AgentState):\n",
    "    content = \"\\n\\n\".join(state['content'] or [])\n",
    "    user_message = HumanMessage(\n",
    "        content=f\"{state['task']}\\n\\nHere is my plan:\\n\\n{state['plan']}\")\n",
    "    messages = [\n",
    "        SystemMessage(\n",
    "            content=WRITER_PROMPT.format(content=content)\n",
    "        ),\n",
    "        user_message\n",
    "        ]\n",
    "    response = model.invoke(messages)\n",
    "    return {\n",
    "        \"draft\": response.content, \n",
    "        \"revision_number\": state.get(\"revision_number\", 1) + 1\n",
    "    }"
   ]
  },
  {
   "cell_type": "code",
   "execution_count": 11,
   "metadata": {},
   "outputs": [],
   "source": [
    "def reflection_node(state: AgentState):\n",
    "    messages = [\n",
    "        SystemMessage(content=REFLECTION_PROMPT), \n",
    "        HumanMessage(content=state['draft'])\n",
    "    ]\n",
    "    response = model.invoke(messages)\n",
    "    return {\"critique\": response.content}"
   ]
  },
  {
   "cell_type": "code",
   "execution_count": 12,
   "metadata": {},
   "outputs": [],
   "source": [
    "def research_critique_node(state: AgentState):\n",
    "\n",
    "    prompt = ChatPromptTemplate.from_messages([\n",
    "        (\"system\", RESEARCH_CRITIQUE_PROMPT),\n",
    "        (\"placeholder\", \"{messages}\")\n",
    "    ])\n",
    "    structured_model = model.with_structured_output(Queries, strict=True)\n",
    "    chain = prompt | structured_model\n",
    "    queries = chain.invoke({\"messages\": [state['critique']]})\n",
    "\n",
    "    if \"content\" in state.keys():\n",
    "        content = state['content']\n",
    "    else:\n",
    "        content = []\n",
    "    \n",
    "    for q in queries.queries:\n",
    "        response = tavily.search(query=q, max_results=2)\n",
    "        for r in response['results']:\n",
    "            content.append(r['content'])\n",
    "    return {\"content\": content}"
   ]
  },
  {
   "cell_type": "code",
   "execution_count": 13,
   "metadata": {},
   "outputs": [],
   "source": [
    "def should_continue(state):\n",
    "    if state['revision_number'] > state['max_revisions']:\n",
    "        return END\n",
    "    return \"reflect\""
   ]
  },
  {
   "cell_type": "code",
   "execution_count": 14,
   "metadata": {},
   "outputs": [
    {
     "data": {
      "text/plain": [
       "<langgraph.graph.state.StateGraph at 0x23a431d0770>"
      ]
     },
     "execution_count": 14,
     "metadata": {},
     "output_type": "execute_result"
    }
   ],
   "source": [
    "builder = StateGraph(AgentState)\n",
    "builder.add_node(\"planner\", plan_node)\n",
    "builder.add_node(\"generate\", generation_node)\n",
    "builder.add_node(\"reflect\", reflection_node)\n",
    "builder.add_node(\"research_plan\", research_plan_node)\n",
    "builder.add_node(\"research_critique\", research_critique_node)\n",
    "\n",
    "builder.set_entry_point(\"planner\")\n",
    "\n",
    "builder.add_conditional_edges(\n",
    "    \"generate\", \n",
    "    should_continue, \n",
    "    {END: END, \"reflect\": \"reflect\"}\n",
    ")\n",
    "\n",
    "builder.add_edge(\"planner\", \"research_plan\")\n",
    "builder.add_edge(\"research_plan\", \"generate\")\n",
    "\n",
    "builder.add_edge(\"reflect\", \"research_critique\")\n",
    "builder.add_edge(\"research_critique\", \"generate\")"
   ]
  },
  {
   "cell_type": "code",
   "execution_count": 15,
   "metadata": {},
   "outputs": [
    {
     "name": "stdout",
     "output_type": "stream",
     "text": [
      "{'planner': {'plan': 'LangChain and LangSmith are both AI platforms that enable developers to build, deploy, and manage conversational AI models, but they have distinct differences in their focus, features, and use cases.\\n\\nHere\\'s a high-level outline of an essay comparing LangChain and LangSmith:\\n\\n**Title:** \"A Comparative Analysis of LangChain and LangSmith: Building the Future of Conversational AI\"\\n\\n**I. Introduction**\\n\\n* Brief overview of LangChain and LangSmith\\n* Importance of conversational AI in modern applications\\n* Thesis statement: While both LangChain and LangSmith are powerful tools for building conversational AI, they differ significantly in their approach, capabilities, and use cases.\\n\\n**II. Overview of LangChain**\\n\\n* Description of LangChain as a platform for building, deploying, and managing conversational AI models\\n* Focus on ease of use, flexibility, and scalability\\n* Examples of applications where LangChain is suitable (e.g., chatbots, voice assistants)\\n\\n**III. Overview of LangSmith**\\n\\n* Description of LangSmith as a platform focused on multimodal interaction and natural language understanding\\n* Emphasis on advanced features like dialogue management, intent identification, and context-aware responses\\n* Examples of applications where LangSmith is suitable (e.g., conversational interfaces for customer support, voice-controlled IoT devices)\\n\\n**IV. Key Differences**\\n\\n* **Programming model:** LangChain uses a Python-based API, while LangSmith employs a more comprehensive, multi-language approach.\\n* **Model architecture:** LangChain supports a range of pre-trained models, whereas LangSmith offers custom model design and training capabilities.\\n* **Scalability:** LangChain is designed for large-scale deployments, whereas LangSmith focuses on efficient, real-time processing.\\n\\n**V. Use Cases and Applications**\\n\\n* Examples of use cases where LangChain excels (e.g., simple chatbots, voice assistants)\\n* Examples of use cases where LangSmith shines (e.g., conversational interfaces for customer support, multimodal interaction)\\n\\n**VI. Conclusion**\\n\\n* Recap of the key differences between LangChain and LangSmith\\n* Recommendations for choosing the right platform based on specific project requirements\\n\\n**Notes:**\\n\\n* The essay should be approximately 1,000-1,500 words in length.\\n* Use technical terms and concepts from AI development (e.g., multimodal interaction, natural language understanding) to provide depth and context.\\n* Include examples of real-world applications where LangChain and LangSmith are being used effectively.\\n\\nThis outline provides a solid foundation for comparing LangChain and LangSmith. Feel free to modify it as needed to suit your writing style and the specific requirements of your essay!'}}\n",
      "{'research_plan': {'content': ['LangChain and LangSmith are two complementary tools that cater to different stages and requirements of LLM development. LangChain is ideal for early-stage prototyping and small-scale applications, while LangSmith is better suited for large-scale, production-ready applications that require advanced debugging, testing, and monitoring capabilities.', 'Prior to exploring Langsmith, it is crucial to differentiate between Langsmith and Langchain. While Langchain is mainly used for prototyping, Langsmith is designed to tackle challenges at the production level. Langsmith introduces new features centered around debugging, testing, evaluating, monitoring, and usage metrics.']}}\n",
      "{'generate': {'draft': \"Based on the provided outline, here is a well-structured 5-paragraph essay:\\n\\nA Comparative Analysis of LangChain and LangSmith: Building the Future of Conversational AI\\n\\nIn recent years, conversational artificial intelligence (AI) has become an integral part of modern applications, transforming the way humans interact with machines. Two prominent platforms, LangChain and LangSmith, have emerged to empower developers in building, deploying, and managing conversational AI models. While both tools share a common goal, they differ significantly in their approach, capabilities, and use cases. This essay aims to provide a comprehensive comparison of LangChain and LangSmith, highlighting their distinct features and recommending the most suitable platform for various project requirements.\\n\\nLangChain stands out as a versatile platform designed for building and deploying conversational AI models. Its ease of use, flexibility, and scalability make it an ideal choice for developing simple chatbots, voice assistants, or other small-scale applications. LangChain's Python-based API allows developers to focus on crafting engaging conversations without worrying about the underlying complexities. In contrast, LangSmith takes a more comprehensive approach, focusing on multimodal interaction and natural language understanding. This platform is particularly suited for complex conversational interfaces, such as customer support systems, voice-controlled IoT devices, or other applications requiring advanced dialogue management, intent identification, and context-aware responses.\\n\\nThe key differences between LangChain and LangSmith lie in their programming model, model architecture, and scalability. While LangChain relies on a Python-based API and supports a range of pre-trained models, LangSmith offers a more comprehensive, multi-language approach and custom model design and training capabilities. In terms of scalability, LangChain is designed for large-scale deployments, whereas LangSmith prioritizes efficient, real-time processing. These differences have significant implications for project planning, as developers must carefully consider the specific needs of their application before choosing the most suitable platform.\\n\\nReal-world applications demonstrate the effectiveness of both platforms in different contexts. LangChain excels in small-scale projects, such as simple chatbots or voice assistants, where ease of use and flexibility are essential. On the other hand, LangSmith shines in more complex scenarios, like conversational interfaces for customer support or multimodal interaction, where advanced features and real-time processing are critical. By understanding these differences and selecting the right platform, developers can ensure that their projects meet specific requirements and provide a seamless user experience.\\n\\nIn conclusion, while both LangChain and LangSmith offer valuable tools for building conversational AI models, they cater to different stages and requirements of LLM development. LangChain is ideal for early-stage prototyping and small-scale applications, whereas LangSmith is better suited for large-scale, production-ready projects that demand advanced debugging, testing, and monitoring capabilities. By recognizing these differences and choosing the most suitable platform for their project needs, developers can unlock the full potential of conversational AI and create innovative applications that transform industries and improve lives.\\n\\nPlease let me know if you would like me to revise anything!\", 'revision_number': 2}}\n",
      "{'reflect': {'critique': '**Overall Impression**\\n\\nYour essay provides a well-structured comparison of LangChain and LangSmith, highlighting their distinct features and recommending the most suitable platform for various project requirements. The writing is clear, concise, and engaging, making it easy to follow your arguments.\\n\\n**Suggestions and Recommendations**\\n\\n1. **Length**: While your essay is comprehensive, consider expanding on certain points or adding more examples to make the text feel less dense. Aim for 7-8 paragraphs instead of 5.\\n2. **Depth**: Delve deeper into specific use cases or applications where LangChain and LangSmith excel. For instance, you could discuss a real-world example of a simple chatbot built with LangChain and compare it to a more complex conversational interface developed using LangSmith.\\n3. **Style**: To make your writing even more engaging, consider using a more conversational tone while maintaining professionalism. This will help readers feel like they\\'re having a discussion rather than reading a formal essay.\\n4. **Transitions**: Use transitional phrases or sentences to connect ideas between paragraphs and improve flow. This will help readers follow your arguments more easily.\\n5. **Conclusion**: While your conclusion effectively summarizes the main points, consider strengthening it by reiterating the key takeaways and emphasizing their importance in the context of conversational AI development.\\n\\n**Specific Comments**\\n\\n* In paragraph 2, you mention LangSmith\\'s focus on multimodal interaction and natural language understanding. Consider providing more details about these features or explaining how they differ from LangChain\\'s capabilities.\\n* In paragraph 3, your explanation of the key differences between LangChain and LangSmith is concise but could be expanded upon. Try to provide more context or examples that illustrate these differences.\\n* In paragraph 4, you discuss real-world applications, which is a great way to demonstrate the effectiveness of both platforms. Consider using more specific examples or case studies to support your arguments.\\n\\n**Minor Corrections**\\n\\n* Throughout the essay, ensure consistent verb tense and subject-verb agreement. For example, in paragraph 1, change \"transforming the way humans interact with machines\" to \"has transformed the way humans interact with machines.\"\\n* In paragraph 5, consider changing \"most suitable platform for their project needs\" to \"the most suitable platform for their specific project requirements.\"\\n\\nOverall, your essay provides a solid foundation for comparison and analysis. With some revisions to address these suggestions, you can create an even more engaging and informative piece that showcases your expertise in conversational AI development!'}}\n",
      "{'research_critique': {'content': ['LangChain and LangSmith are two complementary tools that cater to different stages and requirements of LLM development. LangChain is ideal for early-stage prototyping and small-scale applications, while LangSmith is better suited for large-scale, production-ready applications that require advanced debugging, testing, and monitoring capabilities.', 'Prior to exploring Langsmith, it is crucial to differentiate between Langsmith and Langchain. While Langchain is mainly used for prototyping, Langsmith is designed to tackle challenges at the production level. Langsmith introduces new features centered around debugging, testing, evaluating, monitoring, and usage metrics.', 'Top Conversational AI Platform: Comparison chart. Here is a head-to-head comparison summary of the best conversational AI platforms. Best for Multi-channel support Top feature', \"Learn more about AI chatbots. 2. Zendesk. Ratings: 4.3/5⭐️ (5,850+ reviews) Zendesk is one of the best conversational AI platforms for providing instant help on your website, mobile apps, and business channels. Its AI-powered chatbots can analyze a consumer's intent on your site and provide unique suggestions.\", 'Developing a Clear Essay Structure. One of the key elements of writing an effective essay is developing a clear and logical structure. A well-structured essay helps the reader follow your argument and enhances the overall readability of your work. Here are some tips to help you develop a clear essay structure: 1.', 'Essay Structure: The 3 Main Parts of an Essay | Grammarly Blog With a template for the basic essay structure in hand, you can focus on what really matters when you’re writing essays: your arguments and the evidence you’re using to support them. Take a look at the basic essay structure below and see how the parts of an essay work together to present a coherent, well-reasoned position, no matter what topic you’re writing about. Write with Grammarly Often, your assignment will tell you what kind of essay to write, such as a chronological, compare and contrast, or problems-methods-solution essay. This essay structure is ideal if you’re writing about: With the basic essay structure down, you can get to writing Get Grammarly', \"A conversational tone is an informal type of writing tone. You want to sound like you are chatting with the reader instead of talking to a large audience in an auditorium somewhere (or giving a conference over Zoom). Even though conversational writing is more relaxed, you don't want to sound unprofessional or careless.\", 'Kathy Sierra, co-creator of the bestselling Head First series, explained this best:\\n“So one of the theories on why speaking directly to the user is more effective than a more formal lecture tone is that the user’s brain thinks it’s in a conversation, and therefore has to pay more attention to hold up its end! When you should you use conversational tone in writing\\nThe tone you adopt in your writing depends on many factors: the kind of business you’re in, your target audience, your messaging goals…\\n Cuddle + kind applies this tactic to their Instagram posts, like in this example:\\nInstead of telling what the fawn is made of, the brand humanizes it by giving it a human character and telling the story of “Elliott.”\\n But unless you’re writing academic papers or working in law, you can likely safely use a conversational tone in almost all of the content you produce: from blog and social media posts, to email copy, web copy, landing pages, etc.\\nWhy?\\n How to Achieve a Conversational Tone in Your Writing\\nA well-quoted stat in marketing circles states that 8 out of 10 people will read a headline, but that only 2 out of 10 will actually go on to read beyond the headline.']}}\n",
      "{'generate': {'draft': \"Based on the provided outline, here is a 5-paragraph essay that compares LangChain and LangSmith:\\n\\n**A Comparative Analysis of LangChain and LangSmith: Building the Future of Conversational AI**\\n\\nIn the rapidly evolving landscape of conversational AI, two platforms, LangChain and LangSmith, have emerged as powerful tools for developers to build, deploy, and manage conversational AI models. While both platforms share a common goal of enabling seamless human-computer interactions, they differ significantly in their approach, capabilities, and use cases. This essay aims to provide a comprehensive comparison of LangChain and LangSmith, highlighting their distinct features, strengths, and weaknesses.\\n\\n**Ease of Use and Flexibility: LangChain's Edge**\\n\\nLangChain is an ideal platform for developers seeking ease of use, flexibility, and scalability in building conversational AI models. Its Python-based API allows developers to leverage existing knowledge and skills, making it a great choice for projects requiring rapid prototyping and deployment. LangChain is particularly suited for simple chatbots, voice assistants, and other applications where a straightforward, modular approach is desired. However, its limitations lie in its inability to handle complex multimodal interactions and advanced natural language understanding.\\n\\n**Multimodal Interaction and Advanced Features: LangSmith's Strength**\\n\\nIn contrast, LangSmith excels in providing advanced features like dialogue management, intent identification, and context-aware responses, making it a top choice for more sophisticated conversational interfaces. Its comprehensive, multi-language approach allows developers to design custom models that cater to diverse user needs and preferences. LangSmith is particularly well-suited for applications where rapid iteration and efficient, real-time processing are crucial, such as conversational interfaces for customer support and voice-controlled IoT devices.\\n\\n**Key Differences: Choosing the Right Platform**\\n\\nThe primary differences between LangChain and LangSmith lie in their programming models, model architectures, and scalability. LangChain's Python-based API is ideal for projects requiring rapid prototyping and deployment, whereas LangSmith's multi-language approach provides greater flexibility and customization options. LangChain supports a range of pre-trained models, while LangSmith offers custom model design and training capabilities. When it comes to scalability, LangChain is designed for large-scale deployments, but its real-time processing capabilities may be compromised in high-traffic scenarios.\\n\\n**Conclusion: Choosing the Right Tool for Your Project**\\n\\nIn conclusion, LangChain and LangSmith are two distinct platforms that cater to different needs and use cases in conversational AI development. While LangChain excels in ease of use, flexibility, and scalability, LangSmith shines with advanced features like dialogue management, intent identification, and context-aware responses. By understanding the strengths and weaknesses of each platform, developers can make informed decisions about which tool best suits their project requirements.\\n\\n(Note: This is a 5-paragraph essay as per your request. The length is approximately 1,000 words.)\", 'revision_number': 3}}\n"
     ]
    }
   ],
   "source": [
    "with SqliteSaver.from_conn_string(\":memory:\") as memory:\n",
    "    thread = {\"configurable\": {\"thread_id\": \"1\"}}\n",
    "    graph = builder.compile(checkpointer=memory)\n",
    "    for s in graph.stream({\n",
    "        'task': \"what is the difference between langchain and langsmith\",\n",
    "        \"max_revisions\": 2,\n",
    "        \"revision_number\": 1,\n",
    "    }, thread):\n",
    "        print(s)"
   ]
  }
 ],
 "metadata": {
  "kernelspec": {
   "display_name": "Python 3",
   "language": "python",
   "name": "python3"
  },
  "language_info": {
   "codemirror_mode": {
    "name": "ipython",
    "version": 3
   },
   "file_extension": ".py",
   "mimetype": "text/x-python",
   "name": "python",
   "nbconvert_exporter": "python",
   "pygments_lexer": "ipython3",
   "version": "3.12.5"
  }
 },
 "nbformat": 4,
 "nbformat_minor": 2
}
